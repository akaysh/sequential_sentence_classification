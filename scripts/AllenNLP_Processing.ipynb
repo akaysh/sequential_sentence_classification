{
 "cells": [
  {
   "cell_type": "code",
   "execution_count": 40,
   "id": "101ce8ff",
   "metadata": {},
   "outputs": [],
   "source": [
    "import pandas as pd\n",
    "import glob\n",
    "import ast\n",
    "import json\n",
    "import numpy as np\n",
    "import os\n",
    "from pathlib import Path\n",
    "\n",
    "\n",
    "path_iclr_train = r'./0517_split_2/train/' # use your path\n",
    "path_iclr_test = r'./0517_split_2/test/' # use your path\n",
    "path_iclr_dev = r'./0517_split_2/dev/' # use your path\n",
    "\n",
    "label_name_classification = \"coarse\""
   ]
  },
  {
   "cell_type": "code",
   "execution_count": 39,
   "id": "aeefecb4",
   "metadata": {},
   "outputs": [],
   "source": [
    "# keys are label types here\n",
    "# label_keys = [\"coarse\",\"fine\",\"aspect\",\"polarity\"]\n",
    "label_keys = [\"coarse\"]"
   ]
  },
  {
   "cell_type": "markdown",
   "id": "d453011d",
   "metadata": {},
   "source": [
    "## Dev Data"
   ]
  },
  {
   "cell_type": "code",
   "execution_count": 44,
   "id": "c50aba28",
   "metadata": {},
   "outputs": [],
   "source": [
    "all_review_files_dev = glob.glob(path_iclr_dev + \"*\")\n",
    "\n",
    "data_li = []\n",
    "\n",
    "for filename in all_review_files_dev:\n",
    "    \n",
    "  with open(filename, 'r') as f:\n",
    "    data_json =  json.loads(f.read())\n",
    "  rev_df = pd.DataFrame(data_json[\"review\"])\n",
    "  rev_label_df = pd.DataFrame(data_json[\"reviewlabels\"])\n",
    "  df = pd.concat([rev_df,rev_label_df],axis=1)\n",
    "  df = df.loc[:,~df.columns.duplicated()]\n",
    "  data_li.append(df)"
   ]
  },
  {
   "cell_type": "code",
   "execution_count": 45,
   "id": "752ea488",
   "metadata": {},
   "outputs": [],
   "source": [
    "for label_key in label_keys:\n",
    "    json_li = []\n",
    "    for data in data_li:\n",
    "        json_li.append({\"review_id\":data[\"text_id\"][0],\"sentences\":[sentence for sentence in data[\"sentence\"]],\"labels\":[req_label for req_label in [label[label_key] for label in data[\"labels\"]]]})\n",
    "    Path(\"./data/Discourse\").mkdir(parents=True, exist_ok=True)\n",
    "    with open(f'./data/Discourse/dev_{label_key}.jsonl', 'w') as outfile:\n",
    "        for entry in json_li:\n",
    "            json.dump(entry, outfile)\n",
    "            outfile.write('\\n')"
   ]
  },
  {
   "cell_type": "markdown",
   "id": "2ca57b98",
   "metadata": {},
   "source": [
    "## Training Data"
   ]
  },
  {
   "cell_type": "code",
   "execution_count": 34,
   "id": "7f01e264",
   "metadata": {},
   "outputs": [],
   "source": [
    "all_review_files_train = glob.glob(path_iclr_train + \"*\")\n",
    "\n",
    "data_li = []\n",
    "\n",
    "for filename in all_review_files_train:\n",
    "    \n",
    "  with open(filename, 'r') as f:\n",
    "    data_json =  json.loads(f.read())\n",
    "  rev_df = pd.DataFrame(data_json[\"review\"])\n",
    "  rev_label_df = pd.DataFrame(data_json[\"reviewlabels\"])\n",
    "  df = pd.concat([rev_df,rev_label_df],axis=1)\n",
    "  df = df.loc[:,~df.columns.duplicated()]\n",
    "  data_li.append(df)\n"
   ]
  },
  {
   "cell_type": "code",
   "execution_count": 43,
   "id": "9ace82e8",
   "metadata": {},
   "outputs": [],
   "source": [
    "\n",
    "for label_key in label_keys:\n",
    "    json_li = []\n",
    "    for data in data_li:\n",
    "        json_li.append({\"review_id\":data[\"text_id\"][0],\"sentences\":[sentence for sentence in data[\"sentence\"]],\"labels\":[req_label for req_label in [label[label_key] for label in data[\"labels\"]]]})\n",
    "    Path(\"./data/Discourse\").mkdir(parents=True, exist_ok=True)\n",
    "    with open(f'./data/Discourse/train_{label_key}.jsonl', 'w') as outfile:\n",
    "        for entry in json_li:\n",
    "            json.dump(entry, outfile)\n",
    "            outfile.write('\\n')\n"
   ]
  },
  {
   "cell_type": "markdown",
   "id": "c3cb15d0",
   "metadata": {},
   "source": [
    "## Testing Data"
   ]
  },
  {
   "cell_type": "code",
   "execution_count": 46,
   "id": "5f2dcdb1",
   "metadata": {},
   "outputs": [],
   "source": [
    "all_review_files_test = glob.glob(path_iclr_test + \"*\")\n",
    "\n",
    "data_li = []\n",
    "\n",
    "for filename in all_review_files_test:\n",
    "    \n",
    "  with open(filename, 'r') as f:\n",
    "    data_json =  json.loads(f.read())\n",
    "  rev_df = pd.DataFrame(data_json[\"review\"])\n",
    "  rev_label_df = pd.DataFrame(data_json[\"reviewlabels\"])\n",
    "  df = pd.concat([rev_df,rev_label_df],axis=1)\n",
    "  df = df.loc[:,~df.columns.duplicated()]\n",
    "  data_li.append(df)"
   ]
  },
  {
   "cell_type": "code",
   "execution_count": 47,
   "id": "b9aa1505",
   "metadata": {},
   "outputs": [],
   "source": [
    "for label_key in label_keys:\n",
    "    json_li = []\n",
    "    for data in data_li:\n",
    "        json_li.append({\"review_id\":data[\"text_id\"][0],\"sentences\":[sentence for sentence in data[\"sentence\"]],\"labels\":[req_label for req_label in [label[label_key] for label in data[\"labels\"]]]})\n",
    "    Path(\"./data/Discourse\").mkdir(parents=True, exist_ok=True)\n",
    "    with open(f'./data/Discourse/test_{label_key}.jsonl', 'w') as outfile:\n",
    "        for entry in json_li:\n",
    "            json.dump(entry, outfile)\n",
    "            outfile.write('\\n')\n"
   ]
  },
  {
   "cell_type": "code",
   "execution_count": null,
   "id": "3c1e992e",
   "metadata": {},
   "outputs": [],
   "source": []
  }
 ],
 "metadata": {
  "kernelspec": {
   "display_name": "Python 3 (ipykernel)",
   "language": "python",
   "name": "python3"
  },
  "language_info": {
   "codemirror_mode": {
    "name": "ipython",
    "version": 3
   },
   "file_extension": ".py",
   "mimetype": "text/x-python",
   "name": "python",
   "nbconvert_exporter": "python",
   "pygments_lexer": "ipython3",
   "version": "3.9.6"
  }
 },
 "nbformat": 4,
 "nbformat_minor": 5
}
