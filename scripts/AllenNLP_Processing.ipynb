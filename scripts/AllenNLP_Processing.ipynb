{
 "cells": [
  {
   "cell_type": "code",
   "execution_count": 1,
   "metadata": {
    "collapsed": true
   },
   "outputs": [],
   "source": [
    "import pandas as pd\n",
    "import glob\n",
    "import ast\n",
    "import json\n",
    "import numpy as np\n",
    "import os\n",
    "from pathlib import Path\n",
    "\n",
    "\n",
    "path_iclr_train = r'../../Discourse_Final_Dataset/train/' # use your path\n",
    "path_iclr_test = r'../../Discourse_Final_Dataset/test/' # use your path\n",
    "path_iclr_dev = r'../../Discourse_Final_Dataset/dev/' # use your path\n",
    "\n",
    "label_name_classification = \"coarse\""
   ]
  },
  {
   "cell_type": "code",
   "execution_count": 2,
   "metadata": {
    "collapsed": true
   },
   "outputs": [],
   "source": [
    "# keys are label types here\n",
    "# label_keys = [\"coarse\",\"fine\",\"asp\",\"pol\"]\n",
    "label_keys = [\"coarse\"]"
   ]
  },
  {
   "cell_type": "markdown",
   "metadata": {},
   "source": [
    "## Dev Data"
   ]
  },
  {
   "cell_type": "code",
   "execution_count": 3,
   "metadata": {
    "collapsed": true
   },
   "outputs": [],
   "source": [
    "all_review_files_dev = glob.glob(path_iclr_dev + \"*\")\n",
    "\n",
    "data_li = []\n",
    "\n",
    "for filename in all_review_files_dev:\n",
    "    \n",
    "  with open(filename, 'r') as f:\n",
    "    data_json =  json.loads(f.read())\n",
    "  rev_df = pd.DataFrame(data_json[\"review_sentences\"])\n",
    "  data_li.append(rev_df)"
   ]
  },
  {
   "cell_type": "code",
   "execution_count": 4,
   "metadata": {
    "collapsed": true
   },
   "outputs": [],
   "source": [
    "for label_key in label_keys:\n",
    "    json_li = []\n",
    "    for data in data_li:\n",
    "        json_li.append({\"review_id\":data[\"review_id\"][0],\"sentences\":[sentence for sentence in data[\"text\"]],\"labels\":[req_label for req_label in data[label_key]]})\n",
    "    Path(\"../data/Discourse\").mkdir(parents=True, exist_ok=True)\n",
    "    print(len(json_li))\n",
    "    with open(f'../data/Discourse/dev_{label_key}.jsonl', 'w') as outfile:\n",
    "        for entry in json_li:\n",
    "            json.dump(entry, outfile)\n",
    "            outfile.write('\\n')"
   ]
  },
  {
   "cell_type": "markdown",
   "metadata": {},
   "source": [
    "## Training Data"
   ]
  },
  {
   "cell_type": "code",
   "execution_count": 5,
   "metadata": {
    "collapsed": true
   },
   "outputs": [],
   "source": [
    "all_review_files_train = glob.glob(path_iclr_train + \"*\")\n",
    "\n",
    "data_li = []\n",
    "\n",
    "for filename in all_review_files_train:\n",
    "    \n",
    "  with open(filename, 'r') as f:\n",
    "    data_json =  json.loads(f.read())\n",
    "  rev_df = pd.DataFrame(data_json[\"review_sentences\"])\n",
    "  data_li.append(rev_df)\n"
   ]
  },
  {
   "cell_type": "code",
   "execution_count": 7,
   "metadata": {},
   "outputs": [
    {
     "name": "stdout",
     "output_type": "stream",
     "text": [
      "251\n"
     ]
    }
   ],
   "source": [
    "\n",
    "for label_key in label_keys:\n",
    "    json_li = []\n",
    "    for data in data_li:\n",
    "        json_li.append({\"review_id\":data[\"review_id\"][0],\"sentences\":[sentence for sentence in data[\"text\"]],\"labels\":[req_label for req_label in data[label_key]]})\n",
    "    Path(\"../data/Discourse\").mkdir(parents=True, exist_ok=True)\n",
    "    print(len(json_li))\n",
    "    with open(f'../data/Discourse/train_{label_key}.jsonl', 'w') as outfile:\n",
    "        for entry in json_li:\n",
    "            json.dump(entry, outfile)\n",
    "            outfile.write('\\n')\n"
   ]
  },
  {
   "cell_type": "markdown",
   "metadata": {},
   "source": [
    "## Testing Data"
   ]
  },
  {
   "cell_type": "code",
   "execution_count": 14,
   "metadata": {
    "collapsed": true
   },
   "outputs": [],
   "source": [
    "all_review_files_test = glob.glob(path_iclr_test + \"*\")\n",
    "\n",
    "data_li = []\n",
    "\n",
    "for filename in all_review_files_test:\n",
    "    with open(filename, 'r') as f:\n",
    "        data_json =  json.loads(f.read())\n",
    "    rev_df = pd.DataFrame(data_json[\"review_sentences\"])\n",
    "    data_li.append(rev_df)"
   ]
  },
  {
   "cell_type": "code",
   "execution_count": 15,
   "metadata": {
    "collapsed": true
   },
   "outputs": [],
   "source": [
    "for label_key in label_keys:\n",
    "    json_li = []\n",
    "    for data in data_li:\n",
    "        json_li.append({\"review_id\":data[\"review_id\"][0],\"sentences\":[sentence for sentence in data[\"text\"]],\"labels\":[req_label for req_label in data[label_key]]})\n",
    "    Path(\"../data/Discourse\").mkdir(parents=True, exist_ok=True)\n",
    "    print(len(json_li))\n",
    "    with open(f'../data/Discourse/test_{label_key}.jsonl', 'w') as outfile:\n",
    "        for entry in json_li:\n",
    "            json.dump(entry, outfile)\n",
    "            outfile.write('\\n')"
   ]
  }
 ],
 "metadata": {
  "kernelspec": {
   "display_name": "GPU Python 3.8.5",
   "language": "python",
   "name": "local_env"
  },
  "language_info": {
   "codemirror_mode": {
    "name": "ipython",
    "version": 3
   },
   "file_extension": ".py",
   "mimetype": "text/x-python",
   "name": "python",
   "nbconvert_exporter": "python",
   "pygments_lexer": "ipython3",
   "version": "3.8.5"
  }
 },
 "nbformat": 4,
 "nbformat_minor": 5
}
